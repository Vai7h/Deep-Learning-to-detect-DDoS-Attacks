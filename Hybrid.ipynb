{
  "nbformat": 4,
  "nbformat_minor": 0,
  "metadata": {
    "colab": {
      "provenance": [],
      "include_colab_link": true
    },
    "kernelspec": {
      "name": "python3",
      "display_name": "Python 3"
    },
    "language_info": {
      "name": "python"
    }
  },
  "cells": [
    {
      "cell_type": "markdown",
      "metadata": {
        "id": "view-in-github",
        "colab_type": "text"
      },
      "source": [
        "<a href=\"https://colab.research.google.com/github/Vai7h/Phishing-detection/blob/main/Hybrid.ipynb\" target=\"_parent\"><img src=\"https://colab.research.google.com/assets/colab-badge.svg\" alt=\"Open In Colab\"/></a>"
      ]
    },
    {
      "cell_type": "code",
      "source": [
        "from google.colab import files\n",
        "uploaded = files.upload()"
      ],
      "metadata": {
        "colab": {
          "base_uri": "https://localhost:8080/",
          "height": 349
        },
        "id": "KWVxWSOGG-Ib",
        "outputId": "4f90ce6f-822f-4513-8404-122774178642"
      },
      "execution_count": null,
      "outputs": [
        {
          "output_type": "display_data",
          "data": {
            "text/plain": [
              "<IPython.core.display.HTML object>"
            ],
            "text/html": [
              "\n",
              "     <input type=\"file\" id=\"files-0e1aa117-859e-4142-9924-8c22953537e5\" name=\"files[]\" multiple disabled\n",
              "        style=\"border:none\" />\n",
              "     <output id=\"result-0e1aa117-859e-4142-9924-8c22953537e5\">\n",
              "      Upload widget is only available when the cell has been executed in the\n",
              "      current browser session. Please rerun this cell to enable.\n",
              "      </output>\n",
              "      <script src=\"/nbextensions/google.colab/files.js\"></script> "
            ]
          },
          "metadata": {}
        },
        {
          "output_type": "error",
          "ename": "MessageError",
          "evalue": "ignored",
          "traceback": [
            "\u001b[0;31m---------------------------------------------------------------------------\u001b[0m",
            "\u001b[0;31mMessageError\u001b[0m                              Traceback (most recent call last)",
            "\u001b[0;32m<ipython-input-3-21dc3c638f66>\u001b[0m in \u001b[0;36m<module>\u001b[0;34m()\u001b[0m\n\u001b[1;32m      1\u001b[0m \u001b[0;32mfrom\u001b[0m \u001b[0mgoogle\u001b[0m\u001b[0;34m.\u001b[0m\u001b[0mcolab\u001b[0m \u001b[0;32mimport\u001b[0m \u001b[0mfiles\u001b[0m\u001b[0;34m\u001b[0m\u001b[0;34m\u001b[0m\u001b[0m\n\u001b[0;32m----> 2\u001b[0;31m \u001b[0muploaded\u001b[0m \u001b[0;34m=\u001b[0m \u001b[0mfiles\u001b[0m\u001b[0;34m.\u001b[0m\u001b[0mupload\u001b[0m\u001b[0;34m(\u001b[0m\u001b[0;34m)\u001b[0m\u001b[0;34m\u001b[0m\u001b[0;34m\u001b[0m\u001b[0m\n\u001b[0m",
            "\u001b[0;32m/usr/local/lib/python3.7/dist-packages/google/colab/files.py\u001b[0m in \u001b[0;36mupload\u001b[0;34m()\u001b[0m\n\u001b[1;32m     44\u001b[0m   \"\"\"\n\u001b[1;32m     45\u001b[0m \u001b[0;34m\u001b[0m\u001b[0m\n\u001b[0;32m---> 46\u001b[0;31m   \u001b[0muploaded_files\u001b[0m \u001b[0;34m=\u001b[0m \u001b[0m_upload_files\u001b[0m\u001b[0;34m(\u001b[0m\u001b[0mmultiple\u001b[0m\u001b[0;34m=\u001b[0m\u001b[0;32mTrue\u001b[0m\u001b[0;34m)\u001b[0m\u001b[0;34m\u001b[0m\u001b[0;34m\u001b[0m\u001b[0m\n\u001b[0m\u001b[1;32m     47\u001b[0m   \u001b[0;31m# Mapping from original filename to filename as saved locally.\u001b[0m\u001b[0;34m\u001b[0m\u001b[0;34m\u001b[0m\u001b[0;34m\u001b[0m\u001b[0m\n\u001b[1;32m     48\u001b[0m   \u001b[0mlocal_filenames\u001b[0m \u001b[0;34m=\u001b[0m \u001b[0mdict\u001b[0m\u001b[0;34m(\u001b[0m\u001b[0;34m)\u001b[0m\u001b[0;34m\u001b[0m\u001b[0;34m\u001b[0m\u001b[0m\n",
            "\u001b[0;32m/usr/local/lib/python3.7/dist-packages/google/colab/files.py\u001b[0m in \u001b[0;36m_upload_files\u001b[0;34m(multiple)\u001b[0m\n\u001b[1;32m    121\u001b[0m   result = _output.eval_js(\n\u001b[1;32m    122\u001b[0m       'google.colab._files._uploadFiles(\"{input_id}\", \"{output_id}\")'.format(\n\u001b[0;32m--> 123\u001b[0;31m           input_id=input_id, output_id=output_id))\n\u001b[0m\u001b[1;32m    124\u001b[0m   \u001b[0mfiles\u001b[0m \u001b[0;34m=\u001b[0m \u001b[0m_collections\u001b[0m\u001b[0;34m.\u001b[0m\u001b[0mdefaultdict\u001b[0m\u001b[0;34m(\u001b[0m\u001b[0m_six\u001b[0m\u001b[0;34m.\u001b[0m\u001b[0mbinary_type\u001b[0m\u001b[0;34m)\u001b[0m\u001b[0;34m\u001b[0m\u001b[0;34m\u001b[0m\u001b[0m\n\u001b[1;32m    125\u001b[0m \u001b[0;34m\u001b[0m\u001b[0m\n",
            "\u001b[0;32m/usr/local/lib/python3.7/dist-packages/google/colab/output/_js.py\u001b[0m in \u001b[0;36meval_js\u001b[0;34m(script, ignore_result, timeout_sec)\u001b[0m\n\u001b[1;32m     38\u001b[0m   \u001b[0;32mif\u001b[0m \u001b[0mignore_result\u001b[0m\u001b[0;34m:\u001b[0m\u001b[0;34m\u001b[0m\u001b[0;34m\u001b[0m\u001b[0m\n\u001b[1;32m     39\u001b[0m     \u001b[0;32mreturn\u001b[0m\u001b[0;34m\u001b[0m\u001b[0;34m\u001b[0m\u001b[0m\n\u001b[0;32m---> 40\u001b[0;31m   \u001b[0;32mreturn\u001b[0m \u001b[0m_message\u001b[0m\u001b[0;34m.\u001b[0m\u001b[0mread_reply_from_input\u001b[0m\u001b[0;34m(\u001b[0m\u001b[0mrequest_id\u001b[0m\u001b[0;34m,\u001b[0m \u001b[0mtimeout_sec\u001b[0m\u001b[0;34m)\u001b[0m\u001b[0;34m\u001b[0m\u001b[0;34m\u001b[0m\u001b[0m\n\u001b[0m\u001b[1;32m     41\u001b[0m \u001b[0;34m\u001b[0m\u001b[0m\n\u001b[1;32m     42\u001b[0m \u001b[0;34m\u001b[0m\u001b[0m\n",
            "\u001b[0;32m/usr/local/lib/python3.7/dist-packages/google/colab/_message.py\u001b[0m in \u001b[0;36mread_reply_from_input\u001b[0;34m(message_id, timeout_sec)\u001b[0m\n\u001b[1;32m    104\u001b[0m         reply.get('colab_msg_id') == message_id):\n\u001b[1;32m    105\u001b[0m       \u001b[0;32mif\u001b[0m \u001b[0;34m'error'\u001b[0m \u001b[0;32min\u001b[0m \u001b[0mreply\u001b[0m\u001b[0;34m:\u001b[0m\u001b[0;34m\u001b[0m\u001b[0;34m\u001b[0m\u001b[0m\n\u001b[0;32m--> 106\u001b[0;31m         \u001b[0;32mraise\u001b[0m \u001b[0mMessageError\u001b[0m\u001b[0;34m(\u001b[0m\u001b[0mreply\u001b[0m\u001b[0;34m[\u001b[0m\u001b[0;34m'error'\u001b[0m\u001b[0;34m]\u001b[0m\u001b[0;34m)\u001b[0m\u001b[0;34m\u001b[0m\u001b[0;34m\u001b[0m\u001b[0m\n\u001b[0m\u001b[1;32m    107\u001b[0m       \u001b[0;32mreturn\u001b[0m \u001b[0mreply\u001b[0m\u001b[0;34m.\u001b[0m\u001b[0mget\u001b[0m\u001b[0;34m(\u001b[0m\u001b[0;34m'data'\u001b[0m\u001b[0;34m,\u001b[0m \u001b[0;32mNone\u001b[0m\u001b[0;34m)\u001b[0m\u001b[0;34m\u001b[0m\u001b[0;34m\u001b[0m\u001b[0m\n\u001b[1;32m    108\u001b[0m \u001b[0;34m\u001b[0m\u001b[0m\n",
            "\u001b[0;31mMessageError\u001b[0m: TypeError: Cannot read properties of undefined (reading '_uploadFiles')"
          ]
        }
      ]
    },
    {
      "cell_type": "code",
      "execution_count": null,
      "metadata": {
        "id": "SA_MDz-O5H0N"
      },
      "outputs": [],
      "source": [
        "import pandas as pd\n",
        "import numpy as np\n",
        "import seaborn as sns\n",
        "import random\n",
        "#from pandas import DataFrame\n",
        "import os\n",
        "from sklearn.utils import resample\n",
        "from sklearn.ensemble import RandomForestClassifier\n",
        "from xgboost import XGBClassifier\n",
        "from sklearn.svm import SVC\n",
        "from sklearn.metrics import confusion_matrix\n",
        "from sklearn.ensemble import VotingClassifier\n",
        "from sklearn.metrics import accuracy_score\n",
        "from sklearn.metrics import classification_report\n",
        "\n",
        "import matplotlib.pyplot as plt # For embedding plots into applications\n",
        "from pandas import DataFrame\n",
        "import os\n",
        "import seaborn as sns\n",
        "\n",
        "data = pd.read_csv('phishing.csv', header = 0)"
      ]
    },
    {
      "cell_type": "code",
      "source": [
        "target=data['class']\n",
        "features=data.drop(['class'],axis=1)"
      ],
      "metadata": {
        "id": "LABAcj-s5MCZ"
      },
      "execution_count": null,
      "outputs": []
    },
    {
      "cell_type": "code",
      "source": [
        "from sklearn.model_selection import train_test_split"
      ],
      "metadata": {
        "id": "t1OCr6Tr5MEw"
      },
      "execution_count": null,
      "outputs": []
    },
    {
      "cell_type": "code",
      "source": [
        "X_train, X_test, y_train, y_test = train_test_split(features,target,test_size = 0.3,random_state = 200)\n",
        "X_train.shape"
      ],
      "metadata": {
        "id": "mOTwH8qv5MI9"
      },
      "execution_count": null,
      "outputs": []
    },
    {
      "cell_type": "code",
      "source": [
        "X_train=X_train.drop(['Index'],axis=1)\n",
        "X_test=X_test.drop(['Index'],axis=1)"
      ],
      "metadata": {
        "id": "5VDqgGXQ5MMS"
      },
      "execution_count": null,
      "outputs": []
    },
    {
      "cell_type": "code",
      "source": [
        "xgbcl = XGBClassifier(max_depth=10,colsample_bytree=0.8,gamma=0.8,scale_pos_weight=0.9,subsample=1,n_estimators=100)\n",
        "xgbcl.fit(X_train,y_train)"
      ],
      "metadata": {
        "id": "TN_pg0D25MOs"
      },
      "execution_count": null,
      "outputs": []
    },
    {
      "cell_type": "code",
      "source": [
        "#instantiating two classifiers\n",
        "xgbcl1 = XGBClassifier()\n",
        "xgbcl2 = XGBClassifier()\n",
        "rfc1=RandomForestClassifier(n_estimators=280,random_state=200)\n",
        "svm = SVC(kernel=\"rbf\", probability = True)\n",
        "voting_clf = VotingClassifier(estimators=[('SVC1', svm),('xg1', xgbcl1),('xg2', xgbcl2),('RF1',rfc1)], voting='hard')\n",
        "#fit and predict using training and testing dataset respectively\n",
        "voting_clf.fit(X_train, y_train)"
      ],
      "metadata": {
        "id": "ZMcPBVmw5MQV"
      },
      "execution_count": null,
      "outputs": []
    },
    {
      "cell_type": "code",
      "source": [
        "predictions = voting_clf.predict(X_test)\n",
        "#Evaluation matrics\n",
        "cm1=confusion_matrix(y_test,predictions)\n",
        "print(\"Confusion Matrix:\")\n",
        "print(cm1)"
      ],
      "metadata": {
        "id": "Bpv6FigX5MT7"
      },
      "execution_count": null,
      "outputs": []
    },
    {
      "cell_type": "code",
      "source": [
        "accuracy1 = (cm1[0,0] + cm1[1,1]) /(cm1[0,0]+cm1[0,1]+cm1[1,0]+cm1[1,1])\n",
        "print('Accuracy : ',accuracy1)\n",
        "error1 = (cm1[0,1]+cm1[1,0])/(cm1[0,0]+cm1[0,1]+cm1[1,0]+cm1[1,1])\n",
        "print('Error : ', error1)\n",
        "specificity1 = cm1[1,1]/(cm1[1,0]+cm1[1,1])\n",
        "print('Specificity : ', specificity1)\n",
        "precision1 = cm1[0,0]/(cm1[0,0]+cm1[1,0])\n",
        "print('Precision: ',precision1)\n",
        "recall1 = cm1[0,0]/(cm1[0,0]+cm1[0,1])\n",
        "print('Recall: ',recall1)\n",
        "f1_score1 = (2 * precision1 * recall1)/ (precision1 + recall1)\n",
        "print(\"F1_score: \",f1_score1)"
      ],
      "metadata": {
        "id": "19czPwpf5YHk"
      },
      "execution_count": null,
      "outputs": []
    },
    {
      "cell_type": "code",
      "source": [
        "imp_features =pd.Series(xgbcl.feature_importances_,index= X_train.columns).sort_values(ascending = False)\n",
        "imp_features"
      ],
      "metadata": {
        "id": "49S_tVIk5YKQ"
      },
      "execution_count": null,
      "outputs": []
    },
    {
      "cell_type": "code",
      "source": [
        "for x in imp_features.axes[0][15:30]: # Dropping 15 least imp features\n",
        "  X_train = X_train.drop([x], axis = 1)\n",
        "\n",
        "for x in imp_features.axes[0][15:30]:\n",
        "  X_test = X_test.drop([x], axis = 1)"
      ],
      "metadata": {
        "id": "zVtRv5vF5YM1"
      },
      "execution_count": null,
      "outputs": []
    },
    {
      "cell_type": "code",
      "source": [
        "i = 0 # To check if X_train has the 15 most imp features\n",
        "for x in X_train.columns.tolist():\n",
        "  i = i+1\n",
        "  print (str(i) + \". \" + x)"
      ],
      "metadata": {
        "id": "c-Fbzlqe5YOo"
      },
      "execution_count": null,
      "outputs": []
    },
    {
      "cell_type": "code",
      "source": [
        "xgbcl1 = XGBClassifier(max_depth=8,colsample_bytree=0.7,gamma=0.7,scale_pos_weight=1,min_child_weight=0.4,subsample=1,max_delta_step=1,n_estimators=270)\n",
        "xgbcl2 = XGBClassifier(max_depth=8,colsample_bytree=0.7,gamma=0.7,scale_pos_weight=1,min_child_weight=0.4,subsample=1,max_delta_step=1,n_estimators=270)\n",
        "rfc1=RandomForestClassifier(n_estimators=200,random_state=200)\n",
        "svm = SVC(kernel=\"rbf\", probability = True)\n",
        "voting_clf2 = VotingClassifier(estimators=[('SVC1', svm),('xg1', xgbcl1),('xg2', xgbcl2),('RF1',rfc1)], voting='hard')\n",
        "#fit and predict using training and testing dataset respectively\n",
        "voting_clf2.fit(X_train, y_train)"
      ],
      "metadata": {
        "id": "MrXCpgfA5YRC"
      },
      "execution_count": null,
      "outputs": []
    },
    {
      "cell_type": "code",
      "source": [
        "predictions = voting_clf2.predict(X_test)\n",
        "#Evaluation matrics\n",
        "cm2=confusion_matrix(y_test,predictions)\n",
        "print(\"Confusion Matrix:\")\n",
        "print(cm2)"
      ],
      "metadata": {
        "id": "HDm483ZS5YTk"
      },
      "execution_count": null,
      "outputs": []
    },
    {
      "cell_type": "code",
      "source": [
        "accuracy2 = (cm2[0,0] + cm2[1,1]) /(cm2[0,0]+cm2[0,1]+cm2[1,0]+cm2[1,1])\n",
        "print('Accuracy : ',accuracy2)\n",
        "error2 = (cm2[0,1]+cm2[1,0])/(cm2[0,0]+cm2[0,1]+cm2[1,0]+cm2[1,1])\n",
        "print('Error : ', error2)\n",
        "specificity2 = cm2[1,1]/(cm2[1,0]+cm2[1,1])\n",
        "print('Specificity : ', specificity2)\n",
        "precision2 = cm2[0,0]/(cm2[0,0]+cm2[1,0])\n",
        "print('Precision: ',precision2)\n",
        "recall2 = cm2[0,0]/(cm2[0,0]+cm2[0,1])\n",
        "print('Recall: ',recall2)\n",
        "f1_score2 = (2 * precision2 * recall2)/ (precision2 + recall2)\n",
        "print(\"F1_score: \",f1_score2)"
      ],
      "metadata": {
        "id": "Bbs73xfN5YVa"
      },
      "execution_count": null,
      "outputs": []
    },
    {
      "cell_type": "code",
      "source": [
        "for x in imp_features.axes[0][10:15]:  # To drop 5 least imp features\n",
        "  X_train = X_train.drop([x], axis = 1)\n",
        "\n",
        "for x in imp_features.axes[0][10:15]:\n",
        "  X_test = X_test.drop([x], axis = 1)"
      ],
      "metadata": {
        "id": "mSwwWyEO5YZY"
      },
      "execution_count": null,
      "outputs": []
    },
    {
      "cell_type": "code",
      "source": [
        "i = 0 # To check if X_train has the 10 most imp features\n",
        "for x in X_train.columns.tolist():\n",
        "  i = i+1\n",
        "  print (str(i) + \". \" + x)"
      ],
      "metadata": {
        "id": "cOzLlE4w5uSU"
      },
      "execution_count": null,
      "outputs": []
    },
    {
      "cell_type": "code",
      "source": [
        "xgbcl1 = XGBClassifier(max_depth=12,colsample_bytree=0.7,n_estimators= 280,random_state=0)\n",
        "xgbcl2 = XGBClassifier(max_depth=12,colsample_bytree=0.7,n_estimators= 250,random_state=0)\n",
        "rfc1=RandomForestClassifier(n_estimators=200,random_state=200)\n",
        "svm = SVC(kernel=\"rbf\", probability = True)\n",
        "voting_clf3 = VotingClassifier(estimators=[('SVC1', svm),('xg1', xgbcl1),('xg2', xgbcl2),('RF1',rfc1)], voting='hard')\n",
        "#fit and predict using training and testing dataset respectively\n",
        "voting_clf3.fit(X_train, y_train)"
      ],
      "metadata": {
        "id": "LCCny96G5uVF"
      },
      "execution_count": null,
      "outputs": []
    },
    {
      "cell_type": "code",
      "source": [
        "predictions = voting_clf3.predict(X_test)\n",
        "#Evaluation matrics\n",
        "cm3=confusion_matrix(y_test,predictions)\n",
        "print(\"Confusion Matrix:\")\n",
        "print(cm3)"
      ],
      "metadata": {
        "id": "RQ9ZfJIR5uXm"
      },
      "execution_count": null,
      "outputs": []
    },
    {
      "cell_type": "code",
      "source": [
        "accuracy3 = (cm3[0,0] + cm3[1,1]) /(cm3[0,0]+cm3[0,1]+cm3[1,0]+cm3[1,1])\n",
        "print('Accuracy : ',accuracy3)\n",
        "error3 = (cm3[0,1]+cm3[1,0])/(cm3[0,0]+cm3[0,1]+cm3[1,0]+cm3[1,1])\n",
        "print('Error : ', error3)\n",
        "specificity3 = cm3[1,1]/(cm3[1,0]+cm3[1,1])\n",
        "print('Specificity : ', specificity3)\n",
        "precision3 = cm3[0,0]/(cm3[0,0]+cm3[1,0])\n",
        "print('Precision: ',precision3)\n",
        "recall3 = cm3[0,0]/(cm3[0,0]+cm3[0,1])\n",
        "print('Recall: ',recall3)\n",
        "f1_score3 = (2 * precision3 * recall3)/ (precision3 + recall3)\n",
        "print(\"F1_score: \",f1_score3)"
      ],
      "metadata": {
        "id": "XvtoymYY5uY8"
      },
      "execution_count": null,
      "outputs": []
    },
    {
      "cell_type": "code",
      "source": [
        "for x in imp_features.axes[0][5:10]:  # To drop 5 least imp features\n",
        "  X_test = X_test.drop([x], axis = 1)\n",
        "\n",
        "for x in imp_features.axes[0][5:10]:\n",
        "  X_train = X_train.drop([x], axis = 1)"
      ],
      "metadata": {
        "id": "Xll17L4B5ub-"
      },
      "execution_count": null,
      "outputs": []
    },
    {
      "cell_type": "code",
      "source": [
        "i = 0 # To check if X_train has the 5 most imp features\n",
        "for x in X_train.columns.tolist():\n",
        "  i = i+1\n",
        "  print (str(i) + \". \" + x)"
      ],
      "metadata": {
        "id": "Q0A1ASQK5uea"
      },
      "execution_count": null,
      "outputs": []
    },
    {
      "cell_type": "code",
      "source": [
        "xgbcl1 = XGBClassifier(max_depth=10,colsample_bytree=0.8,n_estimators= 280,random_state=0)\n",
        "xgbcl2 = XGBClassifier(max_depth=10,colsample_bytree=0.7,n_estimators= 280,random_state=0)\n",
        "rfc1=RandomForestClassifier(n_estimators=80,random_state=200)\n",
        "svm = SVC(kernel=\"linear\", probability = True)\n",
        "voting_clf4 = VotingClassifier(estimators=[('SVC1', svm),('xg1', xgbcl1),('xg2', xgbcl2),('RF1',rfc1)], voting='hard')\n",
        "#fit and predict using training and testing dataset respectively\n",
        "voting_clf4.fit(X_train, y_train)"
      ],
      "metadata": {
        "id": "UIdNhRiA5uh5"
      },
      "execution_count": null,
      "outputs": []
    },
    {
      "cell_type": "code",
      "source": [
        "predictions = voting_clf4.predict(X_test)\n",
        "#Evaluation matrics\n",
        "cm4=confusion_matrix(y_test,predictions)\n",
        "print(\"Confusion Matrix:\")\n",
        "print(cm4)"
      ],
      "metadata": {
        "id": "-hA6AXql5uj7"
      },
      "execution_count": null,
      "outputs": []
    },
    {
      "cell_type": "code",
      "source": [
        "accuracy4 = (cm4[0,0] + cm4[1,1]) /(cm4[0,0]+cm4[0,1]+cm4[1,0]+cm4[1,1])\n",
        "print('Accuracy : ',accuracy4)\n",
        "error4 = (cm4[0,1]+cm4[1,0])/(cm4[0,0]+cm4[0,1]+cm4[1,0]+cm4[1,1])\n",
        "print('Error : ', error4)\n",
        "specificity4 = cm4[1,1]/(cm4[1,0]+cm4[1,1])\n",
        "print('Specificity : ', specificity4)\n",
        "precision4 = cm4[0,0]/(cm4[0,0]+cm4[1,0])\n",
        "print('Precision: ',precision4)\n",
        "recall4 = cm4[0,0]/(cm4[0,0]+cm4[0,1])\n",
        "print('Recall: ',recall4)\n",
        "f1_score4 = (2 * precision4 * recall4)/ (precision4 + recall4)\n",
        "print(\"F1_score: \",f1_score4)"
      ],
      "metadata": {
        "id": "yv6xXubz5umO"
      },
      "execution_count": null,
      "outputs": []
    },
    {
      "cell_type": "code",
      "source": [
        "matrix = [[accuracy1, error1, recall1, specificity1, precision1, f1_score1],\n",
        "          [accuracy2, error2, recall2, specificity2, precision2, f1_score2],\n",
        "          [accuracy3, error3, recall3, specificity3, precision3, f1_score3],\n",
        "          [accuracy4, error4, recall4, specificity4, precision4, f1_score4]]"
      ],
      "metadata": {
        "id": "jB2OgeNp5uo_"
      },
      "execution_count": null,
      "outputs": []
    },
    {
      "cell_type": "code",
      "source": [
        "plt.rcParams[\"figure.figsize\"] = [18.00, 2.50]\n",
        "plt.rcParams[\"figure.autolayout\"] = True\n",
        "fig, axs = plt.subplots(1, 1)\n",
        "class_names = ['30 Attributes', '15 Attributes', '10 Attributes', '5 Attributes']\n",
        "evaluation_metrics = ['Accuracy', 'Error rate', 'Recall', 'Specificity', 'Precision', 'F1 score']\n",
        "axs.axis('tight')\n",
        "axs.axis('off')\n",
        "table = axs.table(cellText=matrix,\n",
        "                      cellLoc = 'left',\n",
        "                      rowLabels = class_names,\n",
        "                      rowColours= [\"palegreen\"] * 10,\n",
        "                      colLabels=evaluation_metrics,\n",
        "                      colColours= [\"palegreen\"] * 10,\n",
        "                      loc='center')\n",
        "table.auto_set_font_size(False)\n",
        "table.set_fontsize(14)\n",
        "table.scale(1, 4)\n",
        "fig.tight_layout()\n",
        "plt.show()"
      ],
      "metadata": {
        "id": "KlAmqyqY59dV"
      },
      "execution_count": null,
      "outputs": []
    }
  ]
}