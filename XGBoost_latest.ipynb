{
  "nbformat": 4,
  "nbformat_minor": 0,
  "metadata": {
    "colab": {
      "provenance": [],
      "include_colab_link": true
    },
    "kernelspec": {
      "name": "python3",
      "display_name": "Python 3"
    },
    "language_info": {
      "name": "python"
    }
  },
  "cells": [
    {
      "cell_type": "markdown",
      "metadata": {
        "id": "view-in-github",
        "colab_type": "text"
      },
      "source": [
        "<a href=\"https://colab.research.google.com/github/Vai7h/Phishing-detection/blob/main/XGBoost_latest.ipynb\" target=\"_parent\"><img src=\"https://colab.research.google.com/assets/colab-badge.svg\" alt=\"Open In Colab\"/></a>"
      ]
    },
    {
      "cell_type": "code",
      "execution_count": null,
      "metadata": {
        "id": "gpxtO-L2D0_E"
      },
      "outputs": [],
      "source": [
        "import pandas as pd\n",
        "import numpy as np\n",
        "from sklearn.ensemble import RandomForestClassifier\n",
        "from xgboost import XGBClassifier\n",
        "from sklearn.model_selection import train_test_split\n",
        "from sklearn.metrics import accuracy_score\n",
        "from sklearn.metrics import confusion_matrix\n",
        "import matplotlib.pyplot as plt # For embedding plots into applications\n",
        "from pandas import DataFrame\n",
        "import os\n",
        "import seaborn as sns"
      ]
    },
    {
      "cell_type": "code",
      "source": [
        "from google.colab import files\n",
        "uploaded = files.upload()"
      ],
      "metadata": {
        "colab": {
          "base_uri": "https://localhost:8080/",
          "height": 349
        },
        "id": "u856HAE0JUJB",
        "outputId": "06dc29f7-dc6f-49e2-b47d-a3f777a0f4f8"
      },
      "execution_count": null,
      "outputs": [
        {
          "output_type": "display_data",
          "data": {
            "text/plain": [
              "<IPython.core.display.HTML object>"
            ],
            "text/html": [
              "\n",
              "     <input type=\"file\" id=\"files-2c09fe11-630e-4c36-bd2b-a22b493f2baa\" name=\"files[]\" multiple disabled\n",
              "        style=\"border:none\" />\n",
              "     <output id=\"result-2c09fe11-630e-4c36-bd2b-a22b493f2baa\">\n",
              "      Upload widget is only available when the cell has been executed in the\n",
              "      current browser session. Please rerun this cell to enable.\n",
              "      </output>\n",
              "      <script src=\"/nbextensions/google.colab/files.js\"></script> "
            ]
          },
          "metadata": {}
        },
        {
          "output_type": "error",
          "ename": "MessageError",
          "evalue": "ignored",
          "traceback": [
            "\u001b[0;31m---------------------------------------------------------------------------\u001b[0m",
            "\u001b[0;31mMessageError\u001b[0m                              Traceback (most recent call last)",
            "\u001b[0;32m<ipython-input-2-21dc3c638f66>\u001b[0m in \u001b[0;36m<module>\u001b[0;34m()\u001b[0m\n\u001b[1;32m      1\u001b[0m \u001b[0;32mfrom\u001b[0m \u001b[0mgoogle\u001b[0m\u001b[0;34m.\u001b[0m\u001b[0mcolab\u001b[0m \u001b[0;32mimport\u001b[0m \u001b[0mfiles\u001b[0m\u001b[0;34m\u001b[0m\u001b[0;34m\u001b[0m\u001b[0m\n\u001b[0;32m----> 2\u001b[0;31m \u001b[0muploaded\u001b[0m \u001b[0;34m=\u001b[0m \u001b[0mfiles\u001b[0m\u001b[0;34m.\u001b[0m\u001b[0mupload\u001b[0m\u001b[0;34m(\u001b[0m\u001b[0;34m)\u001b[0m\u001b[0;34m\u001b[0m\u001b[0;34m\u001b[0m\u001b[0m\n\u001b[0m",
            "\u001b[0;32m/usr/local/lib/python3.7/dist-packages/google/colab/files.py\u001b[0m in \u001b[0;36mupload\u001b[0;34m()\u001b[0m\n\u001b[1;32m     44\u001b[0m   \"\"\"\n\u001b[1;32m     45\u001b[0m \u001b[0;34m\u001b[0m\u001b[0m\n\u001b[0;32m---> 46\u001b[0;31m   \u001b[0muploaded_files\u001b[0m \u001b[0;34m=\u001b[0m \u001b[0m_upload_files\u001b[0m\u001b[0;34m(\u001b[0m\u001b[0mmultiple\u001b[0m\u001b[0;34m=\u001b[0m\u001b[0;32mTrue\u001b[0m\u001b[0;34m)\u001b[0m\u001b[0;34m\u001b[0m\u001b[0;34m\u001b[0m\u001b[0m\n\u001b[0m\u001b[1;32m     47\u001b[0m   \u001b[0;31m# Mapping from original filename to filename as saved locally.\u001b[0m\u001b[0;34m\u001b[0m\u001b[0;34m\u001b[0m\u001b[0;34m\u001b[0m\u001b[0m\n\u001b[1;32m     48\u001b[0m   \u001b[0mlocal_filenames\u001b[0m \u001b[0;34m=\u001b[0m \u001b[0mdict\u001b[0m\u001b[0;34m(\u001b[0m\u001b[0;34m)\u001b[0m\u001b[0;34m\u001b[0m\u001b[0;34m\u001b[0m\u001b[0m\n",
            "\u001b[0;32m/usr/local/lib/python3.7/dist-packages/google/colab/files.py\u001b[0m in \u001b[0;36m_upload_files\u001b[0;34m(multiple)\u001b[0m\n\u001b[1;32m    121\u001b[0m   result = _output.eval_js(\n\u001b[1;32m    122\u001b[0m       'google.colab._files._uploadFiles(\"{input_id}\", \"{output_id}\")'.format(\n\u001b[0;32m--> 123\u001b[0;31m           input_id=input_id, output_id=output_id))\n\u001b[0m\u001b[1;32m    124\u001b[0m   \u001b[0mfiles\u001b[0m \u001b[0;34m=\u001b[0m \u001b[0m_collections\u001b[0m\u001b[0;34m.\u001b[0m\u001b[0mdefaultdict\u001b[0m\u001b[0;34m(\u001b[0m\u001b[0m_six\u001b[0m\u001b[0;34m.\u001b[0m\u001b[0mbinary_type\u001b[0m\u001b[0;34m)\u001b[0m\u001b[0;34m\u001b[0m\u001b[0;34m\u001b[0m\u001b[0m\n\u001b[1;32m    125\u001b[0m \u001b[0;34m\u001b[0m\u001b[0m\n",
            "\u001b[0;32m/usr/local/lib/python3.7/dist-packages/google/colab/output/_js.py\u001b[0m in \u001b[0;36meval_js\u001b[0;34m(script, ignore_result, timeout_sec)\u001b[0m\n\u001b[1;32m     38\u001b[0m   \u001b[0;32mif\u001b[0m \u001b[0mignore_result\u001b[0m\u001b[0;34m:\u001b[0m\u001b[0;34m\u001b[0m\u001b[0;34m\u001b[0m\u001b[0m\n\u001b[1;32m     39\u001b[0m     \u001b[0;32mreturn\u001b[0m\u001b[0;34m\u001b[0m\u001b[0;34m\u001b[0m\u001b[0m\n\u001b[0;32m---> 40\u001b[0;31m   \u001b[0;32mreturn\u001b[0m \u001b[0m_message\u001b[0m\u001b[0;34m.\u001b[0m\u001b[0mread_reply_from_input\u001b[0m\u001b[0;34m(\u001b[0m\u001b[0mrequest_id\u001b[0m\u001b[0;34m,\u001b[0m \u001b[0mtimeout_sec\u001b[0m\u001b[0;34m)\u001b[0m\u001b[0;34m\u001b[0m\u001b[0;34m\u001b[0m\u001b[0m\n\u001b[0m\u001b[1;32m     41\u001b[0m \u001b[0;34m\u001b[0m\u001b[0m\n\u001b[1;32m     42\u001b[0m \u001b[0;34m\u001b[0m\u001b[0m\n",
            "\u001b[0;32m/usr/local/lib/python3.7/dist-packages/google/colab/_message.py\u001b[0m in \u001b[0;36mread_reply_from_input\u001b[0;34m(message_id, timeout_sec)\u001b[0m\n\u001b[1;32m    104\u001b[0m         reply.get('colab_msg_id') == message_id):\n\u001b[1;32m    105\u001b[0m       \u001b[0;32mif\u001b[0m \u001b[0;34m'error'\u001b[0m \u001b[0;32min\u001b[0m \u001b[0mreply\u001b[0m\u001b[0;34m:\u001b[0m\u001b[0;34m\u001b[0m\u001b[0;34m\u001b[0m\u001b[0m\n\u001b[0;32m--> 106\u001b[0;31m         \u001b[0;32mraise\u001b[0m \u001b[0mMessageError\u001b[0m\u001b[0;34m(\u001b[0m\u001b[0mreply\u001b[0m\u001b[0;34m[\u001b[0m\u001b[0;34m'error'\u001b[0m\u001b[0;34m]\u001b[0m\u001b[0;34m)\u001b[0m\u001b[0;34m\u001b[0m\u001b[0;34m\u001b[0m\u001b[0m\n\u001b[0m\u001b[1;32m    107\u001b[0m       \u001b[0;32mreturn\u001b[0m \u001b[0mreply\u001b[0m\u001b[0;34m.\u001b[0m\u001b[0mget\u001b[0m\u001b[0;34m(\u001b[0m\u001b[0;34m'data'\u001b[0m\u001b[0;34m,\u001b[0m \u001b[0;32mNone\u001b[0m\u001b[0;34m)\u001b[0m\u001b[0;34m\u001b[0m\u001b[0;34m\u001b[0m\u001b[0m\n\u001b[1;32m    108\u001b[0m \u001b[0;34m\u001b[0m\u001b[0m\n",
            "\u001b[0;31mMessageError\u001b[0m: TypeError: Cannot read properties of undefined (reading '_uploadFiles')"
          ]
        }
      ]
    },
    {
      "cell_type": "code",
      "source": [
        "data = pd.read_csv(\"phishing.csv\")"
      ],
      "metadata": {
        "id": "vFpn4PLMJTjx",
        "outputId": "16f08b28-6e56-4287-df6b-31c2eafbe486",
        "colab": {
          "base_uri": "https://localhost:8080/",
          "height": 311
        }
      },
      "execution_count": null,
      "outputs": [
        {
          "output_type": "error",
          "ename": "FileNotFoundError",
          "evalue": "ignored",
          "traceback": [
            "\u001b[0;31m---------------------------------------------------------------------------\u001b[0m",
            "\u001b[0;31mFileNotFoundError\u001b[0m                         Traceback (most recent call last)",
            "\u001b[0;32m<ipython-input-3-3bc88a896c38>\u001b[0m in \u001b[0;36m<module>\u001b[0;34m()\u001b[0m\n\u001b[0;32m----> 1\u001b[0;31m \u001b[0mdata\u001b[0m \u001b[0;34m=\u001b[0m \u001b[0mpd\u001b[0m\u001b[0;34m.\u001b[0m\u001b[0mread_csv\u001b[0m\u001b[0;34m(\u001b[0m\u001b[0;34m\"phishing.csv\"\u001b[0m\u001b[0;34m)\u001b[0m\u001b[0;34m\u001b[0m\u001b[0;34m\u001b[0m\u001b[0m\n\u001b[0m",
            "\u001b[0;32m/usr/local/lib/python3.7/dist-packages/pandas/util/_decorators.py\u001b[0m in \u001b[0;36mwrapper\u001b[0;34m(*args, **kwargs)\u001b[0m\n\u001b[1;32m    309\u001b[0m                     \u001b[0mstacklevel\u001b[0m\u001b[0;34m=\u001b[0m\u001b[0mstacklevel\u001b[0m\u001b[0;34m,\u001b[0m\u001b[0;34m\u001b[0m\u001b[0;34m\u001b[0m\u001b[0m\n\u001b[1;32m    310\u001b[0m                 )\n\u001b[0;32m--> 311\u001b[0;31m             \u001b[0;32mreturn\u001b[0m \u001b[0mfunc\u001b[0m\u001b[0;34m(\u001b[0m\u001b[0;34m*\u001b[0m\u001b[0margs\u001b[0m\u001b[0;34m,\u001b[0m \u001b[0;34m**\u001b[0m\u001b[0mkwargs\u001b[0m\u001b[0;34m)\u001b[0m\u001b[0;34m\u001b[0m\u001b[0;34m\u001b[0m\u001b[0m\n\u001b[0m\u001b[1;32m    312\u001b[0m \u001b[0;34m\u001b[0m\u001b[0m\n\u001b[1;32m    313\u001b[0m         \u001b[0;32mreturn\u001b[0m \u001b[0mwrapper\u001b[0m\u001b[0;34m\u001b[0m\u001b[0;34m\u001b[0m\u001b[0m\n",
            "\u001b[0;32m/usr/local/lib/python3.7/dist-packages/pandas/io/parsers/readers.py\u001b[0m in \u001b[0;36mread_csv\u001b[0;34m(filepath_or_buffer, sep, delimiter, header, names, index_col, usecols, squeeze, prefix, mangle_dupe_cols, dtype, engine, converters, true_values, false_values, skipinitialspace, skiprows, skipfooter, nrows, na_values, keep_default_na, na_filter, verbose, skip_blank_lines, parse_dates, infer_datetime_format, keep_date_col, date_parser, dayfirst, cache_dates, iterator, chunksize, compression, thousands, decimal, lineterminator, quotechar, quoting, doublequote, escapechar, comment, encoding, encoding_errors, dialect, error_bad_lines, warn_bad_lines, on_bad_lines, delim_whitespace, low_memory, memory_map, float_precision, storage_options)\u001b[0m\n\u001b[1;32m    584\u001b[0m     \u001b[0mkwds\u001b[0m\u001b[0;34m.\u001b[0m\u001b[0mupdate\u001b[0m\u001b[0;34m(\u001b[0m\u001b[0mkwds_defaults\u001b[0m\u001b[0;34m)\u001b[0m\u001b[0;34m\u001b[0m\u001b[0;34m\u001b[0m\u001b[0m\n\u001b[1;32m    585\u001b[0m \u001b[0;34m\u001b[0m\u001b[0m\n\u001b[0;32m--> 586\u001b[0;31m     \u001b[0;32mreturn\u001b[0m \u001b[0m_read\u001b[0m\u001b[0;34m(\u001b[0m\u001b[0mfilepath_or_buffer\u001b[0m\u001b[0;34m,\u001b[0m \u001b[0mkwds\u001b[0m\u001b[0;34m)\u001b[0m\u001b[0;34m\u001b[0m\u001b[0;34m\u001b[0m\u001b[0m\n\u001b[0m\u001b[1;32m    587\u001b[0m \u001b[0;34m\u001b[0m\u001b[0m\n\u001b[1;32m    588\u001b[0m \u001b[0;34m\u001b[0m\u001b[0m\n",
            "\u001b[0;32m/usr/local/lib/python3.7/dist-packages/pandas/io/parsers/readers.py\u001b[0m in \u001b[0;36m_read\u001b[0;34m(filepath_or_buffer, kwds)\u001b[0m\n\u001b[1;32m    480\u001b[0m \u001b[0;34m\u001b[0m\u001b[0m\n\u001b[1;32m    481\u001b[0m     \u001b[0;31m# Create the parser.\u001b[0m\u001b[0;34m\u001b[0m\u001b[0;34m\u001b[0m\u001b[0;34m\u001b[0m\u001b[0m\n\u001b[0;32m--> 482\u001b[0;31m     \u001b[0mparser\u001b[0m \u001b[0;34m=\u001b[0m \u001b[0mTextFileReader\u001b[0m\u001b[0;34m(\u001b[0m\u001b[0mfilepath_or_buffer\u001b[0m\u001b[0;34m,\u001b[0m \u001b[0;34m**\u001b[0m\u001b[0mkwds\u001b[0m\u001b[0;34m)\u001b[0m\u001b[0;34m\u001b[0m\u001b[0;34m\u001b[0m\u001b[0m\n\u001b[0m\u001b[1;32m    483\u001b[0m \u001b[0;34m\u001b[0m\u001b[0m\n\u001b[1;32m    484\u001b[0m     \u001b[0;32mif\u001b[0m \u001b[0mchunksize\u001b[0m \u001b[0;32mor\u001b[0m \u001b[0miterator\u001b[0m\u001b[0;34m:\u001b[0m\u001b[0;34m\u001b[0m\u001b[0;34m\u001b[0m\u001b[0m\n",
            "\u001b[0;32m/usr/local/lib/python3.7/dist-packages/pandas/io/parsers/readers.py\u001b[0m in \u001b[0;36m__init__\u001b[0;34m(self, f, engine, **kwds)\u001b[0m\n\u001b[1;32m    809\u001b[0m             \u001b[0mself\u001b[0m\u001b[0;34m.\u001b[0m\u001b[0moptions\u001b[0m\u001b[0;34m[\u001b[0m\u001b[0;34m\"has_index_names\"\u001b[0m\u001b[0;34m]\u001b[0m \u001b[0;34m=\u001b[0m \u001b[0mkwds\u001b[0m\u001b[0;34m[\u001b[0m\u001b[0;34m\"has_index_names\"\u001b[0m\u001b[0;34m]\u001b[0m\u001b[0;34m\u001b[0m\u001b[0;34m\u001b[0m\u001b[0m\n\u001b[1;32m    810\u001b[0m \u001b[0;34m\u001b[0m\u001b[0m\n\u001b[0;32m--> 811\u001b[0;31m         \u001b[0mself\u001b[0m\u001b[0;34m.\u001b[0m\u001b[0m_engine\u001b[0m \u001b[0;34m=\u001b[0m \u001b[0mself\u001b[0m\u001b[0;34m.\u001b[0m\u001b[0m_make_engine\u001b[0m\u001b[0;34m(\u001b[0m\u001b[0mself\u001b[0m\u001b[0;34m.\u001b[0m\u001b[0mengine\u001b[0m\u001b[0;34m)\u001b[0m\u001b[0;34m\u001b[0m\u001b[0;34m\u001b[0m\u001b[0m\n\u001b[0m\u001b[1;32m    812\u001b[0m \u001b[0;34m\u001b[0m\u001b[0m\n\u001b[1;32m    813\u001b[0m     \u001b[0;32mdef\u001b[0m \u001b[0mclose\u001b[0m\u001b[0;34m(\u001b[0m\u001b[0mself\u001b[0m\u001b[0;34m)\u001b[0m\u001b[0;34m:\u001b[0m\u001b[0;34m\u001b[0m\u001b[0;34m\u001b[0m\u001b[0m\n",
            "\u001b[0;32m/usr/local/lib/python3.7/dist-packages/pandas/io/parsers/readers.py\u001b[0m in \u001b[0;36m_make_engine\u001b[0;34m(self, engine)\u001b[0m\n\u001b[1;32m   1038\u001b[0m             )\n\u001b[1;32m   1039\u001b[0m         \u001b[0;31m# error: Too many arguments for \"ParserBase\"\u001b[0m\u001b[0;34m\u001b[0m\u001b[0;34m\u001b[0m\u001b[0;34m\u001b[0m\u001b[0m\n\u001b[0;32m-> 1040\u001b[0;31m         \u001b[0;32mreturn\u001b[0m \u001b[0mmapping\u001b[0m\u001b[0;34m[\u001b[0m\u001b[0mengine\u001b[0m\u001b[0;34m]\u001b[0m\u001b[0;34m(\u001b[0m\u001b[0mself\u001b[0m\u001b[0;34m.\u001b[0m\u001b[0mf\u001b[0m\u001b[0;34m,\u001b[0m \u001b[0;34m**\u001b[0m\u001b[0mself\u001b[0m\u001b[0;34m.\u001b[0m\u001b[0moptions\u001b[0m\u001b[0;34m)\u001b[0m  \u001b[0;31m# type: ignore[call-arg]\u001b[0m\u001b[0;34m\u001b[0m\u001b[0;34m\u001b[0m\u001b[0m\n\u001b[0m\u001b[1;32m   1041\u001b[0m \u001b[0;34m\u001b[0m\u001b[0m\n\u001b[1;32m   1042\u001b[0m     \u001b[0;32mdef\u001b[0m \u001b[0m_failover_to_python\u001b[0m\u001b[0;34m(\u001b[0m\u001b[0mself\u001b[0m\u001b[0;34m)\u001b[0m\u001b[0;34m:\u001b[0m\u001b[0;34m\u001b[0m\u001b[0;34m\u001b[0m\u001b[0m\n",
            "\u001b[0;32m/usr/local/lib/python3.7/dist-packages/pandas/io/parsers/c_parser_wrapper.py\u001b[0m in \u001b[0;36m__init__\u001b[0;34m(self, src, **kwds)\u001b[0m\n\u001b[1;32m     49\u001b[0m \u001b[0;34m\u001b[0m\u001b[0m\n\u001b[1;32m     50\u001b[0m         \u001b[0;31m# open handles\u001b[0m\u001b[0;34m\u001b[0m\u001b[0;34m\u001b[0m\u001b[0;34m\u001b[0m\u001b[0m\n\u001b[0;32m---> 51\u001b[0;31m         \u001b[0mself\u001b[0m\u001b[0;34m.\u001b[0m\u001b[0m_open_handles\u001b[0m\u001b[0;34m(\u001b[0m\u001b[0msrc\u001b[0m\u001b[0;34m,\u001b[0m \u001b[0mkwds\u001b[0m\u001b[0;34m)\u001b[0m\u001b[0;34m\u001b[0m\u001b[0;34m\u001b[0m\u001b[0m\n\u001b[0m\u001b[1;32m     52\u001b[0m         \u001b[0;32massert\u001b[0m \u001b[0mself\u001b[0m\u001b[0;34m.\u001b[0m\u001b[0mhandles\u001b[0m \u001b[0;32mis\u001b[0m \u001b[0;32mnot\u001b[0m \u001b[0;32mNone\u001b[0m\u001b[0;34m\u001b[0m\u001b[0;34m\u001b[0m\u001b[0m\n\u001b[1;32m     53\u001b[0m \u001b[0;34m\u001b[0m\u001b[0m\n",
            "\u001b[0;32m/usr/local/lib/python3.7/dist-packages/pandas/io/parsers/base_parser.py\u001b[0m in \u001b[0;36m_open_handles\u001b[0;34m(self, src, kwds)\u001b[0m\n\u001b[1;32m    227\u001b[0m             \u001b[0mmemory_map\u001b[0m\u001b[0;34m=\u001b[0m\u001b[0mkwds\u001b[0m\u001b[0;34m.\u001b[0m\u001b[0mget\u001b[0m\u001b[0;34m(\u001b[0m\u001b[0;34m\"memory_map\"\u001b[0m\u001b[0;34m,\u001b[0m \u001b[0;32mFalse\u001b[0m\u001b[0;34m)\u001b[0m\u001b[0;34m,\u001b[0m\u001b[0;34m\u001b[0m\u001b[0;34m\u001b[0m\u001b[0m\n\u001b[1;32m    228\u001b[0m             \u001b[0mstorage_options\u001b[0m\u001b[0;34m=\u001b[0m\u001b[0mkwds\u001b[0m\u001b[0;34m.\u001b[0m\u001b[0mget\u001b[0m\u001b[0;34m(\u001b[0m\u001b[0;34m\"storage_options\"\u001b[0m\u001b[0;34m,\u001b[0m \u001b[0;32mNone\u001b[0m\u001b[0;34m)\u001b[0m\u001b[0;34m,\u001b[0m\u001b[0;34m\u001b[0m\u001b[0;34m\u001b[0m\u001b[0m\n\u001b[0;32m--> 229\u001b[0;31m             \u001b[0merrors\u001b[0m\u001b[0;34m=\u001b[0m\u001b[0mkwds\u001b[0m\u001b[0;34m.\u001b[0m\u001b[0mget\u001b[0m\u001b[0;34m(\u001b[0m\u001b[0;34m\"encoding_errors\"\u001b[0m\u001b[0;34m,\u001b[0m \u001b[0;34m\"strict\"\u001b[0m\u001b[0;34m)\u001b[0m\u001b[0;34m,\u001b[0m\u001b[0;34m\u001b[0m\u001b[0;34m\u001b[0m\u001b[0m\n\u001b[0m\u001b[1;32m    230\u001b[0m         )\n\u001b[1;32m    231\u001b[0m \u001b[0;34m\u001b[0m\u001b[0m\n",
            "\u001b[0;32m/usr/local/lib/python3.7/dist-packages/pandas/io/common.py\u001b[0m in \u001b[0;36mget_handle\u001b[0;34m(path_or_buf, mode, encoding, compression, memory_map, is_text, errors, storage_options)\u001b[0m\n\u001b[1;32m    705\u001b[0m                 \u001b[0mencoding\u001b[0m\u001b[0;34m=\u001b[0m\u001b[0mioargs\u001b[0m\u001b[0;34m.\u001b[0m\u001b[0mencoding\u001b[0m\u001b[0;34m,\u001b[0m\u001b[0;34m\u001b[0m\u001b[0;34m\u001b[0m\u001b[0m\n\u001b[1;32m    706\u001b[0m                 \u001b[0merrors\u001b[0m\u001b[0;34m=\u001b[0m\u001b[0merrors\u001b[0m\u001b[0;34m,\u001b[0m\u001b[0;34m\u001b[0m\u001b[0;34m\u001b[0m\u001b[0m\n\u001b[0;32m--> 707\u001b[0;31m                 \u001b[0mnewline\u001b[0m\u001b[0;34m=\u001b[0m\u001b[0;34m\"\"\u001b[0m\u001b[0;34m,\u001b[0m\u001b[0;34m\u001b[0m\u001b[0;34m\u001b[0m\u001b[0m\n\u001b[0m\u001b[1;32m    708\u001b[0m             )\n\u001b[1;32m    709\u001b[0m         \u001b[0;32melse\u001b[0m\u001b[0;34m:\u001b[0m\u001b[0;34m\u001b[0m\u001b[0;34m\u001b[0m\u001b[0m\n",
            "\u001b[0;31mFileNotFoundError\u001b[0m: [Errno 2] No such file or directory: 'phishing.csv'"
          ]
        }
      ]
    },
    {
      "cell_type": "code",
      "source": [
        "xgbcl = XGBClassifier(max_depth=10,colsample_bytree=0.8,gamma=0.8,scale_pos_weight=0.9,subsample=1,n_estimators=100)"
      ],
      "metadata": {
        "id": "fhGw1p5RJTbQ"
      },
      "execution_count": null,
      "outputs": []
    },
    {
      "cell_type": "code",
      "source": [
        "target=data['class']\n",
        "features=data.drop(['class'],axis=1)"
      ],
      "metadata": {
        "id": "jX_Gzz12D-ne"
      },
      "execution_count": null,
      "outputs": []
    },
    {
      "cell_type": "code",
      "source": [
        "X_train, X_test, y_train, y_test = train_test_split(features,target,test_size = 0.3,random_state = 200)"
      ],
      "metadata": {
        "id": "Edv7-FkzD-p9"
      },
      "execution_count": null,
      "outputs": []
    },
    {
      "cell_type": "code",
      "source": [
        "X_train=X_train.drop(['Index'],axis=1)\n",
        "X_test=X_test.drop(['Index'],axis=1)"
      ],
      "metadata": {
        "id": "ed3ijb_8D-sZ"
      },
      "execution_count": null,
      "outputs": []
    },
    {
      "cell_type": "code",
      "source": [
        "xgbcl.fit(X_train,y_train)"
      ],
      "metadata": {
        "id": "yEE0axO3D-u8",
        "colab": {
          "base_uri": "https://localhost:8080/"
        },
        "outputId": "7b0a21bc-3818-44ac-c7d1-6b0b79239c22"
      },
      "execution_count": null,
      "outputs": [
        {
          "output_type": "execute_result",
          "data": {
            "text/plain": [
              "XGBClassifier(colsample_bytree=0.8, gamma=0.8, max_depth=10,\n",
              "              scale_pos_weight=0.9)"
            ]
          },
          "metadata": {},
          "execution_count": 92
        }
      ]
    },
    {
      "cell_type": "code",
      "source": [
        "predictions = xgbcl.predict(X_test)"
      ],
      "metadata": {
        "id": "t4Ue8GXTD-xm"
      },
      "execution_count": null,
      "outputs": []
    },
    {
      "cell_type": "code",
      "source": [
        "from sklearn.metrics import confusion_matrix\n",
        "cm_rf = confusion_matrix(y_test, predictions)\n",
        "print('Confusion Matrix: ')\n",
        "print(cm_rf)"
      ],
      "metadata": {
        "id": "gpk9nTVmD-0w",
        "colab": {
          "base_uri": "https://localhost:8080/"
        },
        "outputId": "e14cea20-cb77-41ac-fe77-17a0bdbe5d2b"
      },
      "execution_count": null,
      "outputs": [
        {
          "output_type": "stream",
          "name": "stdout",
          "text": [
            "Confusion Matrix: \n",
            "[[1393   63]\n",
            " [  57 1804]]\n"
          ]
        }
      ]
    },
    {
      "cell_type": "code",
      "source": [
        "tp = cm_rf[0,0]\n",
        "fn = cm_rf[0,1]\n",
        "fp = cm_rf[1,0]\n",
        "tn = cm_rf[1,1]\n",
        "p = tp + fn\n",
        "n = fp + tn\n",
        "\n",
        "accuracy_all = (tp + tn) / (p + n)\n",
        "error_rate = (fp + fn) / (p + n)\n",
        "sensitivity = tp /p\n",
        "specificity = tn / n\n",
        "precision = tp / (tp + fp)\n",
        "f1_score_all = (2 * precision * sensitivity)/ (precision + sensitivity)\n",
        "\n",
        "\n",
        "print(\"accuracy\",accuracy_all)\n",
        "print(\"error\",error_rate)\n",
        "print(\"sensitivity\",sensitivity)\n",
        "print(\"specificity\",specificity)\n",
        "print(\"precision\",precision)\n",
        "print(\"f1\",f1_score_all)"
      ],
      "metadata": {
        "id": "EURHqMJFD-3j",
        "colab": {
          "base_uri": "https://localhost:8080/"
        },
        "outputId": "65af1c91-b181-4aff-e588-85d4e0f2d41a"
      },
      "execution_count": null,
      "outputs": [
        {
          "output_type": "stream",
          "name": "stdout",
          "text": [
            "accuracy 0.9638227313837805\n",
            "error 0.03617726861621948\n",
            "sensitivity 0.9567307692307693\n",
            "specificity 0.969371305749597\n",
            "precision 0.9606896551724138\n",
            "f1 0.9587061252580867\n"
          ]
        }
      ]
    },
    {
      "cell_type": "code",
      "source": [
        "imp_features =pd.Series(xgbcl.feature_importances_,index= X_train.columns).sort_values(ascending = False)\n",
        "imp_features"
      ],
      "metadata": {
        "id": "b-sB6ahJD-6H",
        "colab": {
          "base_uri": "https://localhost:8080/"
        },
        "outputId": "77c1462e-9733-4ecf-d262-b80737c4b380"
      },
      "execution_count": null,
      "outputs": [
        {
          "output_type": "execute_result",
          "data": {
            "text/plain": [
              "HTTPS                  0.438861\n",
              "AnchorURL              0.208637\n",
              "PrefixSuffix-          0.065951\n",
              "ServerFormHandler      0.024648\n",
              "LinksInScriptTags      0.023195\n",
              "WebsiteTraffic         0.020803\n",
              "ShortURL               0.017669\n",
              "SubDomains             0.014778\n",
              "UsingPopupWindow       0.013054\n",
              "GoogleIndex            0.011139\n",
              "UsingIP                0.010280\n",
              "DomainRegLen           0.009947\n",
              "LinksPointingToPage    0.009879\n",
              "RequestURL             0.009644\n",
              "PageRank               0.009127\n",
              "DisableRightClick      0.009055\n",
              "AbnormalURL            0.009021\n",
              "InfoEmail              0.009015\n",
              "DNSRecording           0.008680\n",
              "AgeofDomain            0.008359\n",
              "LongURL                0.008135\n",
              "IframeRedirection      0.007518\n",
              "HTTPSDomainURL         0.007508\n",
              "Redirecting//          0.006960\n",
              "NonStdPort             0.006931\n",
              "StatusBarCust          0.006868\n",
              "StatsReport            0.006737\n",
              "WebsiteForwarding      0.006216\n",
              "Favicon                0.006063\n",
              "Symbol@                0.005322\n",
              "dtype: float32"
            ]
          },
          "metadata": {},
          "execution_count": 96
        }
      ]
    },
    {
      "cell_type": "code",
      "source": [
        "for x in imp_features.axes[0][15:30]: # Dropping 15 least imp features\n",
        "  X_train = X_train.drop([x], axis = 1)\n",
        "\n",
        "for x in imp_features.axes[0][15:30]:\n",
        "  X_test = X_test.drop([x], axis = 1)"
      ],
      "metadata": {
        "id": "ii5JQoboD-81"
      },
      "execution_count": null,
      "outputs": []
    },
    {
      "cell_type": "code",
      "source": [
        "i = 0 # To check if X_train has the 15 most imp features\n",
        "for x in X_train.columns.tolist():\n",
        "  i = i+1\n",
        "  print (str(i) + \". \" + x)"
      ],
      "metadata": {
        "id": "vRU8y12zD-_O",
        "colab": {
          "base_uri": "https://localhost:8080/"
        },
        "outputId": "83b296b0-595b-46d8-ccad-bbf02f4ac9a7"
      },
      "execution_count": null,
      "outputs": [
        {
          "output_type": "stream",
          "name": "stdout",
          "text": [
            "1. UsingIP\n",
            "2. ShortURL\n",
            "3. PrefixSuffix-\n",
            "4. SubDomains\n",
            "5. HTTPS\n",
            "6. DomainRegLen\n",
            "7. RequestURL\n",
            "8. AnchorURL\n",
            "9. LinksInScriptTags\n",
            "10. ServerFormHandler\n",
            "11. UsingPopupWindow\n",
            "12. WebsiteTraffic\n",
            "13. PageRank\n",
            "14. GoogleIndex\n",
            "15. LinksPointingToPage\n"
          ]
        }
      ]
    },
    {
      "cell_type": "code",
      "source": [
        "# fit model no training data\n",
        "model_15 = XGBClassifier(max_depth=8,colsample_bytree=0.7,gamma=0.7,scale_pos_weight=1,min_child_weight=0.4,subsample=1,max_delta_step=1,n_estimators=270)\n",
        "model_15.fit(X_train, y_train)"
      ],
      "metadata": {
        "id": "FW_FY6_1EPxU",
        "colab": {
          "base_uri": "https://localhost:8080/"
        },
        "outputId": "88d6775b-af10-43ec-d44d-a26f5090efb0"
      },
      "execution_count": null,
      "outputs": [
        {
          "output_type": "execute_result",
          "data": {
            "text/plain": [
              "XGBClassifier(colsample_bytree=0.7, gamma=0.7, max_delta_step=1, max_depth=8,\n",
              "              min_child_weight=0.4, n_estimators=270, random_state=200)"
            ]
          },
          "metadata": {},
          "execution_count": 99
        }
      ]
    },
    {
      "cell_type": "code",
      "source": [
        "predictions_15 = model_15.predict(X_test)"
      ],
      "metadata": {
        "id": "UsXunt6pEP0K"
      },
      "execution_count": null,
      "outputs": []
    },
    {
      "cell_type": "code",
      "source": [
        "#Confusion matrix\n",
        "cm_rf_15 = confusion_matrix(y_test, predictions_15)\n",
        "print('Confusion Matrix: ')\n",
        "print(cm_rf_15)\n",
        "\n",
        "tp_15 = cm_rf_15[0,0]\n",
        "fn_15 = cm_rf_15[0,1]\n",
        "fp_15 = cm_rf_15[1,0]\n",
        "tn_15 = cm_rf_15[1,1]\n",
        "p_15 = tp_15 + fn_15\n",
        "n_15 = fp_15 + tn_15\n",
        "\n",
        "accuracy_15 = (tp_15 + tn_15) / (p_15 + n_15)\n",
        "error_rate_15 = (fp_15 + fn_15) / (p_15 + n_15)\n",
        "sensitivity_15 = tp_15 /p_15\n",
        "specificity_15 = tn_15 / n_15\n",
        "precision_15 = tp_15 / (tp_15 + fp_15)\n",
        "f1_score_15 = (2 * precision_15 * sensitivity_15)/ (precision_15 + sensitivity_15)\n",
        "\n",
        "print(\"accuracy\",accuracy_15)\n",
        "print(\"error\",error_rate_15)\n",
        "print(\"sensitivity\",sensitivity_15)\n",
        "print(\"specificity\",specificity_15)\n",
        "print(\"precision\",precision_15)\n",
        "print(\"f1\",f1_score_15)"
      ],
      "metadata": {
        "id": "vFOxtMonEP2_",
        "colab": {
          "base_uri": "https://localhost:8080/"
        },
        "outputId": "16e22464-512c-4014-c70c-d170d2e1cc85"
      },
      "execution_count": null,
      "outputs": [
        {
          "output_type": "stream",
          "name": "stdout",
          "text": [
            "Confusion Matrix: \n",
            "[[1393   63]\n",
            " [  69 1792]]\n",
            "accuracy 0.9602050045221586\n",
            "error 0.039794995477841426\n",
            "sensitivity 0.9567307692307693\n",
            "specificity 0.9629231595916175\n",
            "precision 0.9528043775649795\n",
            "f1 0.9547635366689513\n"
          ]
        }
      ]
    },
    {
      "cell_type": "code",
      "source": [
        "for x in imp_features.axes[0][10:15]:  # To drop 5 least imp features\n",
        "  X_train = X_train.drop([x], axis = 1)\n",
        "\n",
        "for x in imp_features.axes[0][10:15]:\n",
        "  X_test = X_test.drop([x], axis = 1)"
      ],
      "metadata": {
        "id": "u2Gm8lbvEP6u"
      },
      "execution_count": null,
      "outputs": []
    },
    {
      "cell_type": "code",
      "source": [
        "i = 0 # To check if X_train has the 10 most imp features\n",
        "for x in X_train.columns.tolist():\n",
        "  i = i+1\n",
        "  print (str(i) + \". \" + x)"
      ],
      "metadata": {
        "id": "TudGH5kZEP9z",
        "colab": {
          "base_uri": "https://localhost:8080/"
        },
        "outputId": "82260403-1a71-4fb3-d01a-8a561ecf90d5"
      },
      "execution_count": null,
      "outputs": [
        {
          "output_type": "stream",
          "name": "stdout",
          "text": [
            "1. ShortURL\n",
            "2. PrefixSuffix-\n",
            "3. SubDomains\n",
            "4. HTTPS\n",
            "5. AnchorURL\n",
            "6. LinksInScriptTags\n",
            "7. ServerFormHandler\n",
            "8. UsingPopupWindow\n",
            "9. WebsiteTraffic\n",
            "10. GoogleIndex\n"
          ]
        }
      ]
    },
    {
      "cell_type": "code",
      "source": [
        "# fit model no training data\n",
        "model_10 = XGBClassifier(max_depth=8,colsample_bytree=0.7,n_estimators= 280,random_state=0)\n",
        "model_10.fit(X_train, y_train)"
      ],
      "metadata": {
        "id": "fxYoFfdrEQAY",
        "colab": {
          "base_uri": "https://localhost:8080/"
        },
        "outputId": "bf122f3e-1e64-42b2-9436-ba961c5e8a52"
      },
      "execution_count": null,
      "outputs": [
        {
          "output_type": "execute_result",
          "data": {
            "text/plain": [
              "XGBClassifier(colsample_bytree=0.7, max_depth=8, n_estimators=280,\n",
              "              random_state=200)"
            ]
          },
          "metadata": {},
          "execution_count": 104
        }
      ]
    },
    {
      "cell_type": "code",
      "source": [
        "predictions_10 = model_10.predict(X_test)"
      ],
      "metadata": {
        "id": "LdKfEfOvEQD2"
      },
      "execution_count": null,
      "outputs": []
    },
    {
      "cell_type": "code",
      "source": [
        "#Confusion matrix\n",
        "cm_rf = confusion_matrix(y_test, predictions_10)\n",
        "print('Confusion Matrix: ')\n",
        "print(cm_rf)\n",
        "\n",
        "tp_10 = cm_rf[0,0]\n",
        "fn_10 = cm_rf[0,1]\n",
        "fp_10 = cm_rf[1,0]\n",
        "tn_10 = cm_rf[1,1]\n",
        "p_10 = tp_10 + fn_10\n",
        "n_10 = fp_10 + tn_10\n",
        "\n",
        "accuracy_10 = (tp_10 + tn_10) / (p_10 + n_10)\n",
        "error_rate_10 = (fp_10 + fn_10) / (p_10 + n_10)\n",
        "sensitivity_10 = tp_10 /p_10\n",
        "specificity_10 = tn_10 / n_10\n",
        "precision_10 = tp_10 / (tp_10 + fp_10)\n",
        "f1_score_10 = (2 * precision_10 * sensitivity_10)/ (precision_10 + sensitivity_10)\n",
        "\n",
        "print(\"accuracy\",accuracy_10)\n",
        "print(\"error\",error_rate_10)\n",
        "print(\"sensitivity\",sensitivity_10)\n",
        "print(\"specificity\",specificity_10)\n",
        "print(\"precision\",precision_10)\n",
        "print(\"f1\",f1_score_10)"
      ],
      "metadata": {
        "id": "XIBLoJPXEQGN",
        "colab": {
          "base_uri": "https://localhost:8080/"
        },
        "outputId": "ebd59e95-36d1-49aa-8fbb-d7b7b823bf6d"
      },
      "execution_count": null,
      "outputs": [
        {
          "output_type": "stream",
          "name": "stdout",
          "text": [
            "Confusion Matrix: \n",
            "[[1376   80]\n",
            " [  91 1770]]\n",
            "accuracy 0.9484473922218872\n",
            "error 0.051552607778112755\n",
            "sensitivity 0.945054945054945\n",
            "specificity 0.9511015583019882\n",
            "precision 0.9379686434901159\n",
            "f1 0.9414984604858023\n"
          ]
        }
      ]
    },
    {
      "cell_type": "code",
      "source": [
        "for x in imp_features.axes[0][5:10]:  # To drop 5 least imp features\n",
        "  X_test = X_test.drop([x], axis = 1)\n",
        "\n",
        "for x in imp_features.axes[0][5:10]:\n",
        "  X_train = X_train.drop([x], axis = 1)"
      ],
      "metadata": {
        "id": "hZ2S3zUcEQKA"
      },
      "execution_count": null,
      "outputs": []
    },
    {
      "cell_type": "code",
      "source": [
        "i = 0 # To check if X_train has the 5 most imp features\n",
        "for x in X_train.columns.tolist():\n",
        "  i = i+1\n",
        "  print (str(i) + \". \" + x)"
      ],
      "metadata": {
        "id": "YE_3vnE2Ega0",
        "colab": {
          "base_uri": "https://localhost:8080/"
        },
        "outputId": "4c808c63-93f9-4923-96b4-78ba087a7007"
      },
      "execution_count": null,
      "outputs": [
        {
          "output_type": "stream",
          "name": "stdout",
          "text": [
            "1. PrefixSuffix-\n",
            "2. HTTPS\n",
            "3. AnchorURL\n",
            "4. LinksInScriptTags\n",
            "5. ServerFormHandler\n"
          ]
        }
      ]
    },
    {
      "cell_type": "code",
      "source": [
        "# fit model no training data\n",
        "model_5 = XGBClassifier(max_depth=10,colsample_bytree=1,scale_pos_weight=0.8,n_estimators=280,random_state=0)\n",
        "model_5.fit(X_train, y_train)"
      ],
      "metadata": {
        "id": "yZQxcn69Egcp",
        "colab": {
          "base_uri": "https://localhost:8080/"
        },
        "outputId": "abf3bdbf-7b5a-4626-d132-b0331b0a2959"
      },
      "execution_count": null,
      "outputs": [
        {
          "output_type": "execute_result",
          "data": {
            "text/plain": [
              "XGBClassifier(max_depth=10, n_estimators=280, random_state=200,\n",
              "              scale_pos_weight=0.8)"
            ]
          },
          "metadata": {},
          "execution_count": 109
        }
      ]
    },
    {
      "cell_type": "code",
      "source": [
        "# make predictions for test data\n",
        "predictions_5 = model_5.predict(X_test)"
      ],
      "metadata": {
        "id": "CGBmTsTeEgex"
      },
      "execution_count": null,
      "outputs": []
    },
    {
      "cell_type": "code",
      "source": [
        "#Confusion matrix\n",
        "cm_rf = confusion_matrix(y_test, predictions_5)\n",
        "print('Confusion Matrix: ')\n",
        "print(cm_rf)\n",
        "\n",
        "tp_5 = cm_rf[0,0]\n",
        "fn_5 = cm_rf[0,1]\n",
        "fp_5 = cm_rf[1,0]\n",
        "tn_5 = cm_rf[1,1]\n",
        "p_5 = tp_5 + fn_5\n",
        "n_5 = fp_5 + tn_5\n",
        "\n",
        "accuracy_5 = (tp_5 + tn_5) / (p_5 + n_5)\n",
        "error_rate_5 = (fp_5 + fn_5) / (p_5 + n_5)\n",
        "sensitivity_5 = tp_5 /p_5\n",
        "specificity_5 = tn_5 / n_5\n",
        "precision_5 = tp_5 / (tp_5 + fp_5)\n",
        "f1_score_5 = (2 * precision_5 * sensitivity_5)/ (precision_5 + sensitivity_5)\n",
        "\n",
        "print(\"accuracy\",accuracy_5)\n",
        "print(\"error\",error_rate_5)\n",
        "print(\"sensitivity\",sensitivity_5)\n",
        "print(\"specificity\",specificity_5)\n",
        "print(\"precision\",precision_5)\n",
        "print(\"f1\",f1_score_5)"
      ],
      "metadata": {
        "id": "8hy8nyH4Egid",
        "colab": {
          "base_uri": "https://localhost:8080/"
        },
        "outputId": "7799294e-7179-4b57-a71d-f2dcf47d9b62"
      },
      "execution_count": null,
      "outputs": [
        {
          "output_type": "stream",
          "name": "stdout",
          "text": [
            "Confusion Matrix: \n",
            "[[1306  150]\n",
            " [ 101 1760]]\n",
            "accuracy 0.9243292131444076\n",
            "error 0.0756707868555924\n",
            "sensitivity 0.896978021978022\n",
            "specificity 0.9457281031703385\n",
            "precision 0.9282160625444208\n",
            "f1 0.9123297240656655\n"
          ]
        }
      ]
    },
    {
      "cell_type": "code",
      "source": [
        "matrix = [[accuracy_all, error_rate, sensitivity, specificity, precision, f1_score_all],\n",
        "          [accuracy_15, error_rate_15, sensitivity_15, specificity_15, precision_15, f1_score_15],\n",
        "          [accuracy_10, error_rate_10, sensitivity_10, specificity_10, precision_10, f1_score_10],\n",
        "          [accuracy_5, error_rate_5, sensitivity_5, specificity_5, precision_5, f1_score_5]]"
      ],
      "metadata": {
        "id": "Tja9evNYEglX"
      },
      "execution_count": null,
      "outputs": []
    },
    {
      "cell_type": "code",
      "source": [
        "plt.rcParams[\"figure.figsize\"] = [18.00, 2.50]\n",
        "plt.rcParams[\"figure.autolayout\"] = True\n",
        "fig, axs = plt.subplots(1, 1)\n",
        "class_names = ['30 Attributes', '15 Attributes', '10 Attributes', '5 Attributes']\n",
        "evaluation_metrics = ['Accuracy', 'Error rate', 'Sensitivity', 'Specificity', 'Precision', 'F1 score']\n",
        "axs.axis('tight')\n",
        "axs.axis('off')\n",
        "table = axs.table(cellText=matrix,\n",
        "                      cellLoc = 'left',\n",
        "                      rowLabels = class_names,\n",
        "                      rowColours= [\"palegreen\"] * 10,\n",
        "                      colLabels=evaluation_metrics,\n",
        "                      colColours= [\"palegreen\"] * 10,\n",
        "                      loc='center')\n",
        "table.auto_set_font_size(False)\n",
        "table.set_fontsize(14)\n",
        "table.scale(1, 4)\n",
        "fig.tight_layout()\n",
        "plt.show()"
      ],
      "metadata": {
        "id": "4SS4NNqTEgoB",
        "colab": {
          "base_uri": "https://localhost:8080/",
          "height": 237
        },
        "outputId": "b7309c11-6203-438b-f2ff-28a6f09c5f46"
      },
      "execution_count": null,
      "outputs": [
        {
          "output_type": "display_data",
          "data": {
            "text/plain": [
              "<Figure size 1296x180 with 1 Axes>"
            ],
            "image/png": "[encoded data removed]"
          },
          "metadata": {
            "needs_background": "light"
          }
        }
      ]
    }
  ]
}